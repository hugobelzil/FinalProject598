{
  "nbformat": 4,
  "nbformat_minor": 0,
  "metadata": {
    "colab": {
      "provenance": []
    },
    "kernelspec": {
      "name": "python3",
      "display_name": "Python 3"
    },
    "language_info": {
      "name": "python"
    }
  },
  "cells": [
    {
      "cell_type": "code",
      "execution_count": 10,
      "metadata": {
        "id": "A6Nual6i0U_n"
      },
      "outputs": [],
      "source": [
        "import numpy as np\n",
        "from scipy import integrate,stats"
      ]
    },
    {
      "cell_type": "markdown",
      "source": [
        "# ***Defining the functions to optimize***\n",
        "\n",
        "We aim at computing the value $κ$ that solves the following equation:\n",
        "\\\n",
        "\\\n",
        "$$\\mathbb{E}[(\\alpha_1Z^{2}_{t}+\\beta_1)^{\\kappa/2}]=1$$\n",
        "\\\n",
        "where $Z_t$ are the innovations of our GARCH(1,1) model. We do this for two types of innovations : standard gaussians and student-$t$ with various degrees of freedom\n",
        "This is equivalent to solving numerically for $\\kappa$:\n",
        "$$\\int_{0}^{\\infty}(\\alpha_1z+\\beta_1)^{\\kappa/2}f_{Z^2}(z)dz$$\n",
        "\\\n",
        "If $Z_t\\sim\\mathcal{N}(0,1),\\quad$ $Z^{2}_{t}\\sim χ^{2}_{(1)}$\n",
        "\\\n",
        "\\\n",
        "If $Z_t\\sim t(\\nu),\\quad$ $Z^{2}_{t}\\sim F(1,\\nu)$"
      ],
      "metadata": {
        "id": "3jmnZ7CpNoq8"
      }
    },
    {
      "cell_type": "markdown",
      "source": [
        "## ***Gaussian innovations***\n",
        "\n",
        "Here, we assume $Z_t\\sim\\mathcal{N}(0,1)$"
      ],
      "metadata": {
        "id": "8ER8a5MB1PtU"
      }
    },
    {
      "cell_type": "code",
      "source": [
        "def F_G(kappa,alpha_1,beta_1):\n",
        "  def integrand(z):\n",
        "    p = (alpha_1*(z)+beta_1)**(kappa/2)\n",
        "    return p*(stats.chi2.pdf(z,df=1))\n",
        "  integral,_ = integrate.quad(integrand,a=0,b=750) #b=np.inf also works but its better to use a high finite value for quad.integrate\n",
        "  return integral\n",
        "\n",
        "def d_F_G(kappa,alpha_1,beta_1):\n",
        "  def integrand(z):\n",
        "    p = (alpha_1*(z)+beta_1)**(kappa/2)\n",
        "    q = 0.5*math.log(alpha_1*(z)+beta_1)\n",
        "    return p*q*(stats.chi2.pdf(z,df=1))\n",
        "  integral,_ = integrate.quad(integrand,a=0,b=750)\n",
        "  return integral\n",
        "\n",
        "\n",
        "def newtons_method_gauss(alpha_1,beta_1):\n",
        "  max_iter = 1000     #these parameters can be changed according to your preferences\n",
        "  epsilon = 10e-5\n",
        "  kappa_not = 40     #integral will converge for any kappa_not\n",
        "  iter=0\n",
        "  flag=True\n",
        "\n",
        "  while flag==True and iter<max_iter:\n",
        "    prev_kappa = kappa_not\n",
        "    kappa_not = kappa_not - ((F_G(kappa_not,alpha_1,beta_1)-1)/(d_F_G(kappa_not,alpha_1,beta_1)))\n",
        "    iter+=1\n",
        "    flag=(abs(kappa_not-prev_kappa)>=epsilon)\n",
        "    #print(kappa_not) #comment out to avoid printing each value of the iteration\n",
        "    if iter==max_iter:\n",
        "      print(f\"Newton's method did not converge within {max_iter} iterations for alpha1 = {alpha_1} and beta1 = {beta_1}\")\n",
        "      return None\n",
        "\n",
        "  print(f\"Convergence in {iter} iteration(s) to : \")\n",
        "  return kappa_not\n"
      ],
      "metadata": {
        "id": "EA5sVSOT1IiO"
      },
      "execution_count": 11,
      "outputs": []
    },
    {
      "cell_type": "markdown",
      "source": [
        "## ***Fitted parameters***"
      ],
      "metadata": {
        "id": "kGP3v4DYU1_c"
      }
    },
    {
      "cell_type": "code",
      "source": [
        "alpha_1_A = 0.0890\n",
        "beta_1_A = 0.895\n",
        "newtons_method_gauss(alpha_1_A,beta_1_A)"
      ],
      "metadata": {
        "colab": {
          "base_uri": "https://localhost:8080/"
        },
        "id": "HLyhNXtQUzeX",
        "outputId": "390ff198-a3b1-4416-82ba-5be09dde72b5"
      },
      "execution_count": 12,
      "outputs": [
        {
          "output_type": "stream",
          "name": "stdout",
          "text": [
            "Convergence in 19 iteration(s) to : \n"
          ]
        },
        {
          "output_type": "execute_result",
          "data": {
            "text/plain": [
              "5.673108392310593"
            ]
          },
          "metadata": {},
          "execution_count": 12
        }
      ]
    },
    {
      "cell_type": "markdown",
      "source": [
        "## ***Student-$t$ innovations***\n",
        "\n",
        "We now assume $Z_t\\sim t(\\nu)$, for some $\\nu>0$. Note that while we typically encounter $\\nu \\in \\mathbb{N}$, we could have values of $\\nu$ which could be non-integers here.  "
      ],
      "metadata": {
        "id": "A7rx9C6aKpqh"
      }
    },
    {
      "cell_type": "code",
      "source": [
        "def F_t(kappa,alpha_1,beta_1,nu):\n",
        "  def integrand(z):\n",
        "    p = (alpha_1*(z**2)+beta_1)**(kappa/2)\n",
        "    return p*(stats.t.pdf(z,df=nu,scale=np.sqrt((nu-2)/nu)))\n",
        "  integral,_ = integrate.quad(integrand,a=-np.inf,b=np.inf) #b=np.inf also works but its better to use a high finite value for quad.integrate\n",
        "  return integral\n",
        "\n",
        "def d_F_t(kappa,alpha_1,beta_1,nu):\n",
        "  def integrand(z):\n",
        "    p = (alpha_1*(z**2)+beta_1)**(kappa/2)\n",
        "    q = 0.5*math.log(alpha_1*(z**2)+beta_1)\n",
        "    return p*q*(stats.t.pdf(z,df=nu,scale=np.sqrt((nu-2)/nu)))\n",
        "  integral,_ = integrate.quad(integrand,a=-np.inf,b=np.inf)\n",
        "  return integral\n",
        "\n",
        "def newtons_method_student(alpha_1,beta_1,nu):\n",
        "  max_iter = 1000     #these parameters can be changed according to your preferences\n",
        "  epsilon = 10e-5\n",
        "  kappa_not = nu-0.1\n",
        "  iter=0\n",
        "  flag=True\n",
        "\n",
        "  while flag==True and iter<max_iter:\n",
        "    prev_kappa = kappa_not\n",
        "    kappa_not = kappa_not - ((F_t(kappa_not,alpha_1,beta_1,nu)-1)/(d_F_t(kappa_not,alpha_1,beta_1,nu)))\n",
        "    iter+=1\n",
        "    flag=(abs(kappa_not-prev_kappa)>=epsilon)\n",
        "    #print(kappa_not) #uncomment to print each value of the iteration\n",
        "    if iter==max_iter:\n",
        "      print(f\"Newton's method did not converge within {max_iter} iterations for alpha1 = {alpha_1} and beta1 = {beta_1}\")\n",
        "      return None\n",
        "\n",
        "  print(f\"Convergence in {iter} iteration(s) to : \")\n",
        "  return kappa_not\n"
      ],
      "metadata": {
        "id": "HAc44D2RE3Fh"
      },
      "execution_count": 13,
      "outputs": []
    },
    {
      "cell_type": "markdown",
      "source": [
        "## ***Fitted parameters***"
      ],
      "metadata": {
        "id": "Lg14nAOIKhYT"
      }
    },
    {
      "cell_type": "code",
      "source": [
        "alpha_1_B=0.065670\n",
        "beta_1_B=0.916909\n",
        "nu_B=6.318297\n",
        "newtons_method_student(alpha_1=alpha_1_B,beta_1=beta_1_B,nu=nu_B)"
      ],
      "metadata": {
        "colab": {
          "base_uri": "https://localhost:8080/"
        },
        "id": "ja2MZvPSFcns",
        "outputId": "e095e667-cd3a-4843-f2cc-ecf7b9c31e27"
      },
      "execution_count": 14,
      "outputs": [
        {
          "output_type": "stream",
          "name": "stdout",
          "text": [
            "Convergence in 8 iteration(s) to : \n"
          ]
        },
        {
          "output_type": "execute_result",
          "data": {
            "text/plain": [
              "4.850753146308364"
            ]
          },
          "metadata": {},
          "execution_count": 14
        }
      ]
    },
    {
      "cell_type": "markdown",
      "source": [
        "# ***Generalized Hyperbolic innovations***\n",
        "\n",
        "The GH random variable has the following p.d.f. : \\\\\n",
        "\n",
        "$$\n",
        "f_X(x; \\lambda, a, b) =\n",
        "\\frac{(a^{2} - b^{2})^{\\frac{\\lambda}{2}}}{\\sqrt{\\pi}\\,2^{\\lambda-1} a^{\\lambda} K_{\\lambda}(\\sqrt{a^{2}-b^{2}})}\n",
        "\\left(\\frac{\\sqrt{1 + x^{2}}}{a}\\right)^{λ - \\tfrac{1}{2}}\n",
        "e^{b x}\n",
        "K_{\\lambda-\\frac{1}{2}}\\bigl(a \\sqrt{1 + x^{2}}\\bigr)\n",
        "$$\n",
        "\n",
        "\\\\\n",
        "\n",
        "where $K_\\lambda(⋅)$ denotes the modified Bessel function of the second kind. Fortunately, SciPy.stats contains all the implementation we need for the numerical computations of this distribution. Note that $\\texttt{RUgarch}$ and $\\texttt{SciPy}$ use different parametrizations which we have to take into account and undo before proceed to computations\n"
      ],
      "metadata": {
        "id": "z7VBDji2YFId"
      }
    },
    {
      "cell_type": "code",
      "source": [
        "#bessel function for reparameterization\n",
        "from scipy.special import kv\n",
        "\n",
        "alpha_1 = 0.066449\n",
        "beta_1 = 0.917172\n",
        "\n",
        "#RUGarch parameters (change your parameters here)\n",
        "zeta = 0.250040 #'shape' in the rugarch output\n",
        "rho=-0.960222 #'skew' in the rugarch output\n",
        "lam=-3.970268 #'ghlambda', which is 'p' in scipy\n",
        "\n",
        "K_lam=kv(lam,zeta) #bessel function computations\n",
        "K_lam_plus_1=kv(lam+1,zeta)\n",
        "K_lam_plus_2=kv(lam+2,zeta)\n",
        "\n",
        "#calculations for delta\n",
        "ratio1 = K_lam_plus_1/(zeta*K_lam)\n",
        "ratio2 = K_lam_plus_2/K_lam\n",
        "ratio3 = (K_lam_plus_1/K_lam)**2\n",
        "\n",
        "#according to rugarch documentation page 21\n",
        "inside = ratio1+((rho**2)/(1-(rho**2)))*(ratio2-ratio3)\n",
        "delta_temp = inside**(-0.5)\n",
        "\n",
        "#the parameters below correspond to the 'standard' parameters\n",
        "alpha=zeta/(delta_temp*np.sqrt(1-rho**2))\n",
        "beta=alpha*rho\n",
        "delta=zeta/(alpha*np.sqrt(1-rho**2))\n",
        "mu=(-beta*(delta**2)*K_lam_plus_1)/(zeta*K_lam)\n",
        "\n",
        "#Below are these parameters\n",
        "print(\"Alpha =\", alpha)\n",
        "print(\"Beta =\", beta)\n",
        "print(\"Delta =\", delta)\n",
        "print(\"Mu =\", mu)\n",
        "print(\"Lambda =\",lam)\n"
      ],
      "metadata": {
        "id": "dxyXntixZtWB",
        "colab": {
          "base_uri": "https://localhost:8080/"
        },
        "outputId": "2938c876-22ed-4af5-aba5-17e8c4e988b7"
      },
      "execution_count": 15,
      "outputs": [
        {
          "output_type": "stream",
          "name": "stdout",
          "text": [
            "Alpha = 0.3781119089258553\n",
            "Beta = -0.3630713734126026\n",
            "Delta = 2.368181766324878\n",
            "Mu = 0.3418589652026643\n",
            "Lambda = -3.970268\n"
          ]
        }
      ]
    },
    {
      "cell_type": "code",
      "source": [
        "def F_ghyp(kappa, alpha_1, beta_1, p, a, b, loc, scale):\n",
        "    def integrand(z):\n",
        "        power_term = (alpha_1*(z**2) + beta_1)**(kappa/2)\n",
        "        pdf_val = stats.genhyperbolic.pdf(z, p, a, b, loc=loc, scale=scale)\n",
        "        return power_term * pdf_val\n",
        "    integral, _ = integrate.quad(integrand, -np.inf, np.inf)\n",
        "    return integral\n",
        "\n",
        "def d_F_ghyp(kappa, alpha_1, beta_1, p, a, b, loc, scale):\n",
        "    def integrand(z):\n",
        "        power_term = (alpha_1*(z**2) + beta_1)**(kappa/2)\n",
        "        q = 0.5 * math.log(alpha_1*(z**2) + beta_1)\n",
        "        pdf_val = stats.genhyperbolic.pdf(z, p, a, b, loc=loc, scale=scale)\n",
        "        return power_term * q * pdf_val\n",
        "    integral, _ = integrate.quad(integrand, -np.inf, np.inf)\n",
        "    return integral\n",
        "\n",
        "def newtons_method_genhyp(alpha_1, beta_1, p, a, b, loc, scale):\n",
        "    max_iter=1000\n",
        "    epsilon=1e-5\n",
        "    kappa_not=10\n",
        "    iter_count=0\n",
        "    flag=True\n",
        "\n",
        "    while flag and iter_count<max_iter:\n",
        "        prev_kappa = kappa_not\n",
        "        kappa_not = kappa_not - (((F_ghyp(kappa_not,alpha_1,beta_1,p,a,b,loc,scale) - 1))/d_F_ghyp(kappa_not,alpha_1,beta_1,p,a,b,loc,scale))\n",
        "        iter_count += 1\n",
        "        flag = (abs(kappa_not-prev_kappa)>=epsilon)\n",
        "\n",
        "        if iter_count==max_iter:\n",
        "            print(f\"Newton's method did not converge within {max_iter} iterations for alpha_1 = {alpha_1} and beta_1 = {beta_1}\")\n",
        "            return None\n",
        "\n",
        "    print(f\"Convergence in {iter_count} iteration(s) to : \")\n",
        "    return kappa_not\n",
        "\n",
        "#Careful! Scipy's parametrization is different:\n",
        "result = newtons_method_genhyp(alpha_1,beta_1,p=lam,a=(alpha*delta),b=beta*delta,loc=mu,scale=delta)\n",
        "print(\"Result:\", result)\n"
      ],
      "metadata": {
        "colab": {
          "base_uri": "https://localhost:8080/"
        },
        "id": "ldRDJnBBcvCu",
        "outputId": "92ad327e-e4ff-4d9a-dd49-ce622ae32165"
      },
      "execution_count": 16,
      "outputs": [
        {
          "output_type": "stream",
          "name": "stdout",
          "text": [
            "Convergence in 24 iteration(s) to : \n",
            "Result: 4.458956840195766\n"
          ]
        }
      ]
    },
    {
      "cell_type": "markdown",
      "source": [
        "# ***Checking Mikosch and Starica assumptions***"
      ],
      "metadata": {
        "id": "PcYxbweuLXCy"
      }
    },
    {
      "cell_type": "code",
      "source": [
        "nu = 6.318    #change your parameters here\n",
        "alpha_1 = 0.05 #these are arbitrary parameters\n",
        "beta_1 = 0.95\n",
        "\n",
        "#this function below computes the value of E[lnA] for t distributed innovations\n",
        "def mikosch_and_starica_assumption(z,alpha_1=alpha_1,beta_1=beta_1,nu=nu):\n",
        "  return (np.log(alpha_1*(z**(2))+beta_1)*stats.t.pdf(z,df=nu,scale=np.sqrt((nu-2)/nu))) #change alpha_1, beta_1 and nu accordingly\n",
        "a = integrate.quad(mikosch_and_starica_assumption,a=-np.inf,b=np.inf)\n",
        "\n",
        "#a[0] is the computed approximation of E[lnA], a[1] is a bound of error\n",
        "if a[0]>0:\n",
        "  print(f\"Mikosch and Starica conditions do not hold, E[ln(A)] = {round(a[0],5)} > 0\")\n",
        "else:\n",
        "  print(f\"Mikosch and Starica conditions hold : E[ln(A)] = {round(a[0],5)} < 0\")"
      ],
      "metadata": {
        "colab": {
          "base_uri": "https://localhost:8080/"
        },
        "id": "YqgpIqpyLbCr",
        "outputId": "f02eb675-f1b5-48fa-a742-4a31d0489e9e"
      },
      "execution_count": 17,
      "outputs": [
        {
          "output_type": "stream",
          "name": "stdout",
          "text": [
            "Mikosch and Starica conditions hold : E[ln(A)] = -0.00385 < 0\n"
          ]
        }
      ]
    }
  ]
}